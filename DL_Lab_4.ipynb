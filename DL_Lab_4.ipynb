{
  "nbformat": 4,
  "nbformat_minor": 0,
  "metadata": {
    "colab": {
      "provenance": [],
      "gpuType": "T4",
      "include_colab_link": true
    },
    "kernelspec": {
      "name": "python3",
      "display_name": "Python 3"
    },
    "language_info": {
      "name": "python"
    },
    "accelerator": "GPU"
  },
  "cells": [
    {
      "cell_type": "markdown",
      "metadata": {
        "id": "view-in-github",
        "colab_type": "text"
      },
      "source": [
        "<a href=\"https://colab.research.google.com/github/Mr-MaNia7/deep-learning/blob/main/DL_Lab_4.ipynb\" target=\"_parent\"><img src=\"https://colab.research.google.com/assets/colab-badge.svg\" alt=\"Open In Colab\"/></a>"
      ]
    },
    {
      "cell_type": "code",
      "execution_count": 62,
      "metadata": {
        "id": "o6yvU3hDhE0G"
      },
      "outputs": [],
      "source": [
        "# import torch\n",
        "import torch"
      ]
    },
    {
      "cell_type": "markdown",
      "source": [
        "# Creating Layers"
      ],
      "metadata": {
        "id": "mqaLZ2qGEHZu"
      }
    },
    {
      "cell_type": "code",
      "source": [
        "# creating layers\n",
        "\n",
        "class DenseLayer:\n",
        "  # Layer initialization with random weights and zero biases\n",
        "  def __init__(self, n_inputs, n_neurons):\n",
        "    # Initialize weights and biases\n",
        "    self.weights = 0.01 * torch.rand(n_inputs, n_neurons)\n",
        "    self.biases = torch.zeros((1, n_neurons))\n",
        "\n",
        "  # Forward pass\n",
        "  def forward(self, inputs):\n",
        "    # Calculate output values from inputs, weights and biases\n",
        "    self.output = torch.matmul(inputs, self.weights) + self.biases\n"
      ],
      "metadata": {
        "id": "DdX6RXw-hMcs"
      },
      "execution_count": 63,
      "outputs": []
    },
    {
      "cell_type": "markdown",
      "source": [
        "# Activation Functions"
      ],
      "metadata": {
        "id": "6Klrrk74EgxZ"
      }
    },
    {
      "cell_type": "markdown",
      "source": [
        "## ReLu"
      ],
      "metadata": {
        "id": "tb86fJogEkPk"
      }
    },
    {
      "cell_type": "code",
      "source": [
        "# relu\n",
        "class Activation_ReLU:\n",
        "  # Forward pass\n",
        "  def forward(self, inputs):\n",
        "    self.output = torch.max(torch.tensor(0),inputs)"
      ],
      "metadata": {
        "id": "n9H07Rb5hUQI"
      },
      "execution_count": 64,
      "outputs": []
    },
    {
      "cell_type": "markdown",
      "source": [
        "## Sigmoid"
      ],
      "metadata": {
        "id": "bogbEA1yE3-1"
      }
    },
    {
      "cell_type": "code",
      "source": [
        "# sigmoid\n",
        "class Activation_Sigmoid:\n",
        "  # Forward pass\n",
        "  def forward(self, inputs):\n",
        "    self.output = 1 / (1 + torch.exp(inputs*-1))\n"
      ],
      "metadata": {
        "id": "-kw0RvtghW8J"
      },
      "execution_count": 65,
      "outputs": []
    },
    {
      "cell_type": "markdown",
      "source": [
        "## Linear Activation"
      ],
      "metadata": {
        "id": "bqAQAGoEQB8U"
      }
    },
    {
      "cell_type": "code",
      "source": [
        "# linear activation\n",
        "class LinearActivation:\n",
        "    def forward(self, x):\n",
        "        self.output = x"
      ],
      "metadata": {
        "id": "o6pV8sCOhbKI"
      },
      "execution_count": 66,
      "outputs": []
    },
    {
      "cell_type": "markdown",
      "source": [
        "# Loss"
      ],
      "metadata": {
        "id": "BPQT5aejMpzv"
      }
    },
    {
      "cell_type": "code",
      "source": [
        "class Loss_CategoricalCrossentropy() :\n",
        "  # Forward pass\n",
        "  def forward(self, y_pred, y_true):\n",
        "    samples = len(y_pred)\n",
        "    # Clip data to prevent division by 0\n",
        "    # Clip both sides to not drag mean towards any value\n",
        "    y_pred_clipped = torch.clip(y_pred, 1e-8, 1 - 1e-8)\n",
        "    # only if categorical labels\n",
        "    if len(y_true.shape) == 1:\n",
        "      correct_confidences = y_pred_clipped[range(samples), y_true]\n",
        "    # Mask values - only for one-hot encoded labels\n",
        "    elif len(y_true.shape) == 2:\n",
        "      correct_confidences = torch.sum(y_pred_clipped * y_true, axis=1)\n",
        "    log_loss = -torch.log(correct_confidences)\n",
        "    data_loss = torch.mean(log_loss)\n",
        "    return data_loss"
      ],
      "metadata": {
        "id": "5ZKqjASZMlI1"
      },
      "execution_count": 67,
      "outputs": []
    },
    {
      "cell_type": "markdown",
      "source": [
        "# Accuracy"
      ],
      "metadata": {
        "id": "EgQEjskeMcNB"
      }
    },
    {
      "cell_type": "code",
      "source": [
        "class Accuracy():\n",
        "  def calculate(self, y_pred, y_true):\n",
        "    predictions = torch.argmax(y_pred, axis=1)\n",
        "    if len(y_true.shape) == 2:\n",
        "      y_true = torch.argmax(y_true, axis=1)\n",
        "    accuracy = torch.mean((predictions == y_true).float())\n",
        "    return accuracy"
      ],
      "metadata": {
        "id": "x26oVCTUMMmi"
      },
      "execution_count": 68,
      "outputs": []
    },
    {
      "cell_type": "markdown",
      "source": [
        "## Dataset preparation"
      ],
      "metadata": {
        "id": "3AUNKMcbFqZO"
      }
    },
    {
      "cell_type": "code",
      "source": [
        "X = torch.tensor([0.1, 0.5])\n",
        "Y = torch.tensor([0.05, 0.95])\n",
        "print(X)\n",
        "print(Y)"
      ],
      "metadata": {
        "colab": {
          "base_uri": "https://localhost:8080/"
        },
        "id": "2Xtnc0gZhgDh",
        "outputId": "39e4556b-5a5c-4020-f850-b7f299892178"
      },
      "execution_count": 69,
      "outputs": [
        {
          "output_type": "stream",
          "name": "stdout",
          "text": [
            "tensor([0.1000, 0.5000])\n",
            "tensor([0.0500, 0.9500])\n"
          ]
        }
      ]
    },
    {
      "cell_type": "markdown",
      "source": [
        "# Creating a model"
      ],
      "metadata": {
        "id": "JDkPqBZwFwlD"
      }
    },
    {
      "cell_type": "markdown",
      "source": [
        "### Model construction: Input layer, hidden layer with Sigmoid activation, output layer with linear activation"
      ],
      "metadata": {
        "id": "xXgr-UIFTiZ8"
      }
    },
    {
      "cell_type": "code",
      "source": [
        "# Use 2 features in the input layer, 1 hidden layer with 4 neurons\n",
        "hidden_layer_1 = DenseLayer(2, 4)"
      ],
      "metadata": {
        "id": "wr4Bf3AqhhuB"
      },
      "execution_count": 70,
      "outputs": []
    },
    {
      "cell_type": "code",
      "source": [
        "# Sigmoid activation in the hidden layer.\n",
        "activation1 = Activation_Sigmoid()"
      ],
      "metadata": {
        "id": "P8aJSVbc14jv"
      },
      "execution_count": 71,
      "outputs": []
    },
    {
      "cell_type": "code",
      "source": [
        "# An output layer with 2 neurons\n",
        "output_layer = DenseLayer(4, 2)\n"
      ],
      "metadata": {
        "id": "0Lj3ZJiY16o8"
      },
      "execution_count": 72,
      "outputs": []
    },
    {
      "cell_type": "code",
      "source": [
        "# linear activation in the output layer.\n",
        "activation2 = LinearActivation()"
      ],
      "metadata": {
        "id": "csL8gX4t18Oi"
      },
      "execution_count": 73,
      "outputs": []
    },
    {
      "cell_type": "markdown",
      "source": [
        "# Forward pass"
      ],
      "metadata": {
        "id": "3PkNZ03EGEhE"
      }
    },
    {
      "cell_type": "code",
      "source": [
        "# Forward Pass function\n",
        "def forward_pass(X):\n",
        "  hidden_layer_1.forward(X)\n",
        "  activation1.forward(hidden_layer_1.output)\n",
        "  output_layer.forward(activation1.output)\n",
        "  activation2.forward(output_layer.output)\n",
        "  return activation2.output"
      ],
      "metadata": {
        "id": "4VtoTlAEiHjr"
      },
      "execution_count": 74,
      "outputs": []
    },
    {
      "cell_type": "markdown",
      "source": [
        "# Backward Propagation"
      ],
      "metadata": {
        "id": "8QjKDVE4OP5k"
      }
    },
    {
      "cell_type": "code",
      "source": [
        "# # Backward propagation\n",
        "# Backward propagation\n",
        "\n",
        "def backward_propagation(fp):\n",
        "    lr = torch.tensor(0.01)\n",
        "\n",
        "    back1 = (fp[0][0] - Y[0]) * (1 - fp[0][0]) * fp[0][0]\n",
        "    back2 = (fp[0][1] - Y[1]) * (1 - fp[0][1]) * fp[0][1]\n",
        "\n",
        "    output_layer.weights[0][0] -= lr * back1 * activation1.output[0][0]\n",
        "    output_layer.weights[0][1] -= lr * back1 * activation1.output[0][1]\n",
        "    output_layer.weights[1][0] -= lr * back2 * activation1.output[0][0]\n",
        "    output_layer.weights[1][1] -= lr * back2 * activation1.output[0][1]\n",
        "    output_layer.biases[0][0] -= lr * back1\n",
        "    output_layer.biases[0][1] -= lr * back2\n",
        "\n",
        "    for i in range(hidden_layer_1.weights.shape[0]):\n",
        "        hidden_layer_1.weights[i, :] -= lr * (\n",
        "            (back1 * output_layer.weights[:, i] + back2 * output_layer.weights[:, i]) *\n",
        "            X[i] * hidden_layer_1.output[0, i] * (1 - hidden_layer_1.output[0, i])\n",
        "        )\n",
        "\n",
        "    for j in range(hidden_layer_1.biases.shape[1]):\n",
        "        hidden_layer_1.biases[0, j] -= lr * (\n",
        "            (back1 * output_layer.weights[j, 0] + back2 * output_layer.weights[j, 1]) *\n",
        "            hidden_layer_1.output[0, j] * (1 - hidden_layer_1.output[0, j])\n",
        "        )\n"
      ],
      "metadata": {
        "id": "uiX6_gOKiLZl"
      },
      "execution_count": 75,
      "outputs": []
    },
    {
      "cell_type": "markdown",
      "source": [
        "# Error Calculation(MSE)"
      ],
      "metadata": {
        "id": "fJbnd8rDQ0be"
      }
    },
    {
      "cell_type": "code",
      "source": [
        "# Error Calculation(MSE)\n",
        "def error_calculation(Y_true, Y_pred):\n",
        "  return torch.mean(0.5*(Y_true - Y_pred)**2)\n"
      ],
      "metadata": {
        "id": "UFpzNRmliP7_"
      },
      "execution_count": 76,
      "outputs": []
    },
    {
      "cell_type": "markdown",
      "source": [
        "# Forward and Backward Propagation"
      ],
      "metadata": {
        "id": "qke53pmeRA47"
      }
    },
    {
      "cell_type": "code",
      "source": [
        "# Pre Training\n",
        "loss = 0.0001\n",
        "\n",
        "Y_pred = forward_pass(X)\n",
        "err = error_calculation(Y, Y_pred)\n",
        "print(\"Initial Loss:\", err)\n",
        "print(\"Initial Prediction:\",Y_pred)"
      ],
      "metadata": {
        "colab": {
          "base_uri": "https://localhost:8080/"
        },
        "id": "9_RozguEP0RS",
        "outputId": "3ba1449e-3ca8-44d9-ca87-853d567ba8ab"
      },
      "execution_count": 77,
      "outputs": [
        {
          "output_type": "stream",
          "name": "stdout",
          "text": [
            "Initial Loss: tensor(0.2209)\n",
            "Initial Prediction: tensor([[0.0106, 0.0108]])\n"
          ]
        }
      ]
    },
    {
      "cell_type": "code",
      "source": [
        "# Training\n",
        "while err > loss:\n",
        "  backward_propagation(Y_pred)\n",
        "  Y_pred = forward_pass(X)\n",
        "  err = error_calculation(Y, Y_pred)"
      ],
      "metadata": {
        "id": "Xxhr8cyTiToO"
      },
      "execution_count": 78,
      "outputs": []
    },
    {
      "cell_type": "code",
      "source": [
        "# Post Training\n",
        "print(\"Final Loss:\", err)\n",
        "print(\"Final Prediction:\", Y_pred)\n",
        "print(\"Target Value:\", Y)"
      ],
      "metadata": {
        "id": "RBSFL_sEXEMf",
        "colab": {
          "base_uri": "https://localhost:8080/"
        },
        "outputId": "7f6440be-bac4-4c27-ce83-57de816f671f"
      },
      "execution_count": 79,
      "outputs": [
        {
          "output_type": "stream",
          "name": "stdout",
          "text": [
            "Final Loss: tensor(9.9974e-05)\n",
            "Final Prediction: tensor([[0.0636, 0.9353]])\n",
            "Target Value: tensor([0.0500, 0.9500])\n"
          ]
        }
      ]
    },
    {
      "cell_type": "code",
      "source": [],
      "metadata": {
        "id": "YtRp54Qb2m4Q"
      },
      "execution_count": 79,
      "outputs": []
    }
  ]
}