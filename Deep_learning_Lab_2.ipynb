{
  "nbformat": 4,
  "nbformat_minor": 0,
  "metadata": {
    "colab": {
      "provenance": [],
      "include_colab_link": true
    },
    "kernelspec": {
      "name": "python3",
      "display_name": "Python 3"
    },
    "language_info": {
      "name": "python"
    }
  },
  "cells": [
    {
      "cell_type": "markdown",
      "metadata": {
        "id": "view-in-github",
        "colab_type": "text"
      },
      "source": [
        "<a href=\"https://colab.research.google.com/github/Mr-MaNia7/deep-learning/blob/main/Deep_learning_Lab_2.ipynb\" target=\"_parent\"><img src=\"https://colab.research.google.com/assets/colab-badge.svg\" alt=\"Open In Colab\"/></a>"
      ]
    },
    {
      "cell_type": "markdown",
      "source": [
        "\n",
        "\n",
        "**Done by: ABDULKARIM GETACHEW MOHAMMED  - UGR/7992/12**\n",
        "\n"
      ],
      "metadata": {
        "id": "aPVphZp4bcLT"
      }
    },
    {
      "cell_type": "markdown",
      "source": [
        "Coding Neural Networks Part 1"
      ],
      "metadata": {
        "id": "CBUg0x1abXW9"
      }
    },
    {
      "cell_type": "code",
      "source": [],
      "metadata": {
        "id": "7f_rDaavbrts"
      },
      "execution_count": null,
      "outputs": []
    },
    {
      "cell_type": "code",
      "execution_count": 94,
      "metadata": {
        "id": "FNGTVtTtbJOF"
      },
      "outputs": [],
      "source": [
        "import torch"
      ]
    },
    {
      "cell_type": "code",
      "source": [
        "# Give manual seed\n",
        "torch.manual_seed(7)"
      ],
      "metadata": {
        "colab": {
          "base_uri": "https://localhost:8080/"
        },
        "id": "mYhhJeZ1XaKl",
        "outputId": "640e0f44-e7c0-49ad-ab98-58743da27a39"
      },
      "execution_count": 95,
      "outputs": [
        {
          "output_type": "execute_result",
          "data": {
            "text/plain": [
              "<torch._C.Generator at 0x7a6afc0ec070>"
            ]
          },
          "metadata": {},
          "execution_count": 95
        }
      ]
    },
    {
      "cell_type": "code",
      "source": [
        "# Create four random inputs and weights\n",
        "random_input = torch.rand(4)\n",
        "random_weights = torch.rand(4)\n",
        "bias = 1\n",
        "\n",
        "print(\"input: \", random_input)\n",
        "print(\"weights: \", random_weights)\n",
        "print(\"bias: \", bias)"
      ],
      "metadata": {
        "colab": {
          "base_uri": "https://localhost:8080/"
        },
        "id": "P8e7FX9ZbTcU",
        "outputId": "0648be43-9d95-440b-dea8-21d2414f4b38"
      },
      "execution_count": 96,
      "outputs": [
        {
          "output_type": "stream",
          "name": "stdout",
          "text": [
            "input:  tensor([0.5349, 0.1988, 0.6592, 0.6569])\n",
            "weights:  tensor([0.2328, 0.4251, 0.2071, 0.6297])\n",
            "bias:  1\n"
          ]
        }
      ]
    },
    {
      "cell_type": "code",
      "source": [
        "# Neural Networks\n",
        "output = torch.matmul(random_input, random_weights) + bias\n",
        "output"
      ],
      "metadata": {
        "colab": {
          "base_uri": "https://localhost:8080/"
        },
        "id": "Piy39Bv3dHf6",
        "outputId": "8fdfb3d8-8634-436d-9269-448980e8a11b"
      },
      "execution_count": 97,
      "outputs": [
        {
          "output_type": "execute_result",
          "data": {
            "text/plain": [
              "tensor(1.7592)"
            ]
          },
          "metadata": {},
          "execution_count": 97
        }
      ]
    },
    {
      "cell_type": "markdown",
      "source": [
        "Layer of Neurons"
      ],
      "metadata": {
        "id": "8s8SPrpCfJpa"
      }
    },
    {
      "cell_type": "code",
      "source": [
        "random_input2 = torch.rand(4)\n",
        "random_weight2 = torch.rand(size=(5, 4))\n",
        "bias = torch.rand(5)\n",
        "\n",
        "random_weight2, random_input2, bias"
      ],
      "metadata": {
        "colab": {
          "base_uri": "https://localhost:8080/"
        },
        "id": "wSjd8W6hfHAX",
        "outputId": "0a5c6c07-60ac-4cd3-b072-0649c9e32b7a"
      },
      "execution_count": 98,
      "outputs": [
        {
          "output_type": "execute_result",
          "data": {
            "text/plain": [
              "(tensor([[0.2868, 0.2063, 0.4451, 0.3593],\n",
              "         [0.7204, 0.0731, 0.9699, 0.1078],\n",
              "         [0.8829, 0.4132, 0.7572, 0.6948],\n",
              "         [0.5209, 0.5932, 0.8797, 0.6286],\n",
              "         [0.7653, 0.1132, 0.8559, 0.6721]]),\n",
              " tensor([0.3653, 0.8513, 0.8549, 0.5509]),\n",
              " tensor([0.6267, 0.5691, 0.7437, 0.9592, 0.3887]))"
            ]
          },
          "metadata": {},
          "execution_count": 98
        }
      ]
    },
    {
      "cell_type": "code",
      "source": [
        "output2 = torch.matmul(random_input2, random_weight2.T) + bias\n",
        "\n",
        "output2"
      ],
      "metadata": {
        "colab": {
          "base_uri": "https://localhost:8080/"
        },
        "id": "XnJNWXB0grzC",
        "outputId": "0530987e-8caa-4eef-9e2f-da68d56f54ee"
      },
      "execution_count": 99,
      "outputs": [
        {
          "output_type": "execute_result",
          "data": {
            "text/plain": [
              "tensor([1.4855, 1.7830, 2.4482, 2.7529, 1.8667])"
            ]
          },
          "metadata": {},
          "execution_count": 99
        }
      ]
    },
    {
      "cell_type": "code",
      "source": [
        "input2 = output2\n",
        "output_weight = torch.rand(size = (2, 5))\n",
        "bias2 = torch.rand(2)\n",
        "\n",
        "input2, output_weight, bias2"
      ],
      "metadata": {
        "colab": {
          "base_uri": "https://localhost:8080/"
        },
        "id": "FHR3lujbh_cj",
        "outputId": "7f08ef50-b9e1-4749-f4ae-9c5e964d6ea1"
      },
      "execution_count": 100,
      "outputs": [
        {
          "output_type": "execute_result",
          "data": {
            "text/plain": [
              "(tensor([1.4855, 1.7830, 2.4482, 2.7529, 1.8667]),\n",
              " tensor([[0.2214, 0.3742, 0.1953, 0.7405, 0.2529],\n",
              "         [0.2332, 0.9314, 0.9575, 0.5575, 0.4134]]),\n",
              " tensor([0.4355, 0.7369]))"
            ]
          },
          "metadata": {},
          "execution_count": 100
        }
      ]
    },
    {
      "cell_type": "code",
      "source": [
        "final_output = torch.matmul(input2, output_weight.T) + bias2\n",
        "\n",
        "final_output"
      ],
      "metadata": {
        "colab": {
          "base_uri": "https://localhost:8080/"
        },
        "id": "A0H4wuWgkFQu",
        "outputId": "11a68a9e-e50d-449a-8ed9-ce2bb38caaad"
      },
      "execution_count": 101,
      "outputs": [
        {
          "output_type": "execute_result",
          "data": {
            "text/plain": [
              "tensor([4.4203, 7.3947])"
            ]
          },
          "metadata": {},
          "execution_count": 101
        }
      ]
    },
    {
      "cell_type": "markdown",
      "source": [
        "Layer of Neurons & Batch of Data"
      ],
      "metadata": {
        "id": "vewZZRxPkgm9"
      }
    },
    {
      "cell_type": "code",
      "source": [
        "inputs = torch.rand((32, 4))\n",
        "weights = torch.rand((5, 4))\n",
        "bias = torch.rand(5)"
      ],
      "metadata": {
        "id": "AnaTtpOWkkeM"
      },
      "execution_count": 102,
      "outputs": []
    },
    {
      "cell_type": "code",
      "source": [
        "outputs = torch.matmul(inputs, weights.T) + bias\n",
        "outputs"
      ],
      "metadata": {
        "colab": {
          "base_uri": "https://localhost:8080/"
        },
        "id": "QDe7e1hdlBo-",
        "outputId": "50c238cd-c578-4054-ee06-39759d119adb"
      },
      "execution_count": 103,
      "outputs": [
        {
          "output_type": "execute_result",
          "data": {
            "text/plain": [
              "tensor([[1.6543, 1.6943, 1.5751, 2.6870, 2.1138],\n",
              "        [1.0972, 1.4359, 0.8589, 1.9007, 1.4669],\n",
              "        [1.8271, 1.9258, 1.2835, 2.8056, 2.0718],\n",
              "        [1.4980, 1.4699, 0.7123, 2.0361, 1.6514],\n",
              "        [1.5119, 1.5245, 1.0336, 2.1780, 1.6974],\n",
              "        [1.9718, 1.8789, 1.2904, 2.7172, 1.9634],\n",
              "        [1.6226, 1.8240, 1.4351, 2.7307, 2.0601],\n",
              "        [2.1393, 1.8912, 1.4019, 2.8984, 2.1945],\n",
              "        [1.1148, 1.2406, 0.7004, 1.7779, 1.5907],\n",
              "        [1.9136, 1.9426, 1.3587, 2.9119, 2.1917],\n",
              "        [1.6891, 1.7394, 1.1649, 2.3799, 1.6654],\n",
              "        [0.8861, 1.1474, 0.5075, 1.4251, 1.2173],\n",
              "        [1.7536, 2.1516, 1.3089, 2.9117, 1.9329],\n",
              "        [1.0657, 1.2456, 0.8334, 1.8166, 1.6081],\n",
              "        [1.4522, 1.4249, 0.6962, 2.0834, 1.8102],\n",
              "        [1.8329, 2.0571, 1.5266, 2.9293, 2.0065],\n",
              "        [1.3675, 1.3999, 0.6250, 1.9037, 1.5733],\n",
              "        [1.4141, 1.5330, 1.1248, 2.2499, 1.7892],\n",
              "        [1.8015, 1.5617, 0.9505, 2.3870, 1.9965],\n",
              "        [1.3228, 1.3018, 0.8900, 1.8791, 1.5787],\n",
              "        [1.0093, 1.4128, 0.6390, 1.7243, 1.2889],\n",
              "        [1.8547, 2.0390, 1.1729, 2.8347, 1.9973],\n",
              "        [1.9754, 1.9469, 1.1396, 2.7725, 2.0173],\n",
              "        [1.2889, 1.5459, 0.6889, 1.9987, 1.5157],\n",
              "        [1.8575, 1.6373, 1.2928, 2.6074, 2.1344],\n",
              "        [0.9793, 1.1541, 0.3436, 1.4216, 1.2496],\n",
              "        [1.6617, 1.8362, 0.9063, 2.4995, 1.8339],\n",
              "        [1.8195, 1.7172, 0.8845, 2.4318, 1.8733],\n",
              "        [1.5022, 1.3991, 0.8889, 1.9976, 1.6199],\n",
              "        [1.6104, 1.3638, 1.0253, 2.1716, 1.9058],\n",
              "        [2.1523, 1.8125, 1.2597, 2.7671, 2.1311],\n",
              "        [1.0995, 1.4530, 0.7738, 1.8800, 1.4380]])"
            ]
          },
          "metadata": {},
          "execution_count": 103
        }
      ]
    },
    {
      "cell_type": "markdown",
      "source": [
        "Adding Layers"
      ],
      "metadata": {
        "id": "sieqb9LfmB86"
      }
    },
    {
      "cell_type": "code",
      "source": [
        "inputs_1 = torch.rand((32, 4))\n",
        "weights_1 = torch.rand((5, 4))\n",
        "bias_1 = torch.rand(5)"
      ],
      "metadata": {
        "id": "itBNEetKlK9I"
      },
      "execution_count": 104,
      "outputs": []
    },
    {
      "cell_type": "code",
      "source": [
        "outputs_1 = torch.matmul(inputs_1, weights_1.T) + bias_1"
      ],
      "metadata": {
        "id": "-lTraUTXmN_t"
      },
      "execution_count": 105,
      "outputs": []
    },
    {
      "cell_type": "code",
      "source": [
        "inputs_layer_2 = outputs_1\n",
        "weights_layer_2 = torch.rand(5, 5)\n",
        "bias_2 = torch.rand(5)"
      ],
      "metadata": {
        "id": "qzmUaZQgnddt"
      },
      "execution_count": 106,
      "outputs": []
    },
    {
      "cell_type": "code",
      "source": [
        "outputs_layer_2 = torch.matmul(inputs_layer_2, weights_layer_2.T) + bias_2"
      ],
      "metadata": {
        "id": "OlzCkkwmnvmI"
      },
      "execution_count": 107,
      "outputs": []
    },
    {
      "cell_type": "code",
      "source": [
        "inputs_final_layer = outputs_layer_2\n",
        "weights_final_layer = torch.rand(3, 5)\n",
        "bias_3 = torch.rand(3)"
      ],
      "metadata": {
        "id": "dnNsjQQdn3qk"
      },
      "execution_count": 108,
      "outputs": []
    },
    {
      "cell_type": "code",
      "source": [
        "final_output = torch.matmul(inputs_final_layer, weights_final_layer.T) + bias_3"
      ],
      "metadata": {
        "id": "6D_t2u19oIkx"
      },
      "execution_count": 109,
      "outputs": []
    },
    {
      "cell_type": "code",
      "source": [
        "final_output"
      ],
      "metadata": {
        "colab": {
          "base_uri": "https://localhost:8080/"
        },
        "id": "3HIWVX50oml9",
        "outputId": "c227d375-fd68-47c1-db06-f9416ca4d2b2"
      },
      "execution_count": 110,
      "outputs": [
        {
          "output_type": "execute_result",
          "data": {
            "text/plain": [
              "tensor([[11.5630,  7.3813,  9.2195],\n",
              "        [18.7143, 11.7044, 14.6889],\n",
              "        [18.1017, 11.3229, 14.2526],\n",
              "        [19.1926, 11.9970, 15.0331],\n",
              "        [16.3504, 10.2651, 12.8674],\n",
              "        [12.7509,  8.0237, 10.0779],\n",
              "        [12.6005,  7.9399, 10.0333],\n",
              "        [17.7438, 11.1298, 13.8983],\n",
              "        [20.5305, 12.7193, 16.0941],\n",
              "        [16.4030, 10.2678, 12.9440],\n",
              "        [14.0950,  8.9891, 11.1230],\n",
              "        [14.5953,  9.3086, 11.5115],\n",
              "        [18.8056, 11.7744, 14.7856],\n",
              "        [16.5258, 10.3404, 12.9805],\n",
              "        [15.5240,  9.8208, 12.2437],\n",
              "        [14.8575,  9.4360, 11.6806],\n",
              "        [16.0034, 10.1232, 12.6533],\n",
              "        [14.4933,  9.1646, 11.4349],\n",
              "        [ 9.4760,  6.0881,  7.5842],\n",
              "        [22.7074, 14.0822, 17.7667],\n",
              "        [12.4005,  7.8338,  9.8633],\n",
              "        [10.7669,  6.9278,  8.5071],\n",
              "        [13.3949,  8.4515, 10.6374],\n",
              "        [20.4715, 12.7093, 16.0862],\n",
              "        [17.8318, 11.0979, 13.9651],\n",
              "        [14.8192,  9.2114, 11.7148],\n",
              "        [10.3861,  6.6448,  8.2685],\n",
              "        [15.2511,  9.6490, 12.0711],\n",
              "        [21.3203, 13.1910, 16.7743],\n",
              "        [16.7184, 10.4987, 13.1415],\n",
              "        [12.0282,  7.6439,  9.5729],\n",
              "        [13.5009,  8.4755, 10.6770]])"
            ]
          },
          "metadata": {},
          "execution_count": 110
        }
      ]
    },
    {
      "cell_type": "markdown",
      "source": [
        "Coding Neural Networks with Object Oriented Programming/OOP"
      ],
      "metadata": {
        "id": "E6rsbELGouLd"
      }
    },
    {
      "cell_type": "code",
      "source": [
        "class DenseLayer:\n",
        "  \"\"\"Class for creating hidden layers.\"\"\"\n",
        "  def __init__(self, n_inputs, n_neurons):\n",
        "    # Initialize weights and biases\n",
        "    self.weight = 0.01 * torch.rand((n_inputs, n_neurons))\n",
        "    self.bias = torch.zeros(1, n_neurons)\n",
        "\n",
        "  def forward(self, inputs):\n",
        "    # Calculate output values from inputs, weights and biases\n",
        "    self.output = torch.matmul(inputs, self.weight) + self.bias\n"
      ],
      "metadata": {
        "id": "6tGLIKCuoxld"
      },
      "execution_count": 111,
      "outputs": []
    },
    {
      "cell_type": "code",
      "source": [
        "x = torch.rand((2, 4))\n",
        "\n",
        "layer1 = DenseLayer(4, 6)\n",
        "layer2 = DenseLayer(6, 5)\n",
        "output_layer = DenseLayer(5, 2)"
      ],
      "metadata": {
        "id": "ytbcR50uq_Au"
      },
      "execution_count": 112,
      "outputs": []
    },
    {
      "cell_type": "code",
      "source": [
        "layer1.forward(x)\n",
        "layer2.forward(layer1.output)\n",
        "output_layer.forward(layer2.output)"
      ],
      "metadata": {
        "id": "DATANWgtshHt"
      },
      "execution_count": 113,
      "outputs": []
    },
    {
      "cell_type": "code",
      "source": [
        "output_layer.output"
      ],
      "metadata": {
        "colab": {
          "base_uri": "https://localhost:8080/"
        },
        "id": "sXclr8_LtIpg",
        "outputId": "56c56e05-04a6-4f1e-c3bd-2fe427e4020e"
      },
      "execution_count": 114,
      "outputs": [
        {
          "output_type": "execute_result",
          "data": {
            "text/plain": [
              "tensor([[9.2962e-06, 7.4955e-06],\n",
              "        [1.0698e-05, 8.7042e-06]])"
            ]
          },
          "metadata": {},
          "execution_count": 114
        }
      ]
    },
    {
      "cell_type": "code",
      "source": [
        "# Home Assignment\n",
        "# 5 inputs\n",
        "# 3 hidden layers: 16 layer, 16 layer, 16 layer\n",
        "# 5 classes"
      ],
      "metadata": {
        "id": "GaOC0PrNvSXm"
      },
      "execution_count": 115,
      "outputs": []
    },
    {
      "cell_type": "code",
      "source": [
        "input_layer = torch.rand((20, 5))\n",
        "layer_1 = DenseLayer(5, 16)\n",
        "layer_2 = DenseLayer(16, 16)\n",
        "layer_3 = DenseLayer(16, 16)\n",
        "output_layer = DenseLayer(16, 5)"
      ],
      "metadata": {
        "id": "cT_UqPKJvWnp"
      },
      "execution_count": 116,
      "outputs": []
    },
    {
      "cell_type": "code",
      "source": [
        "layer_1.forward(input_layer)\n",
        "layer_2.forward(layer_1.output)\n",
        "layer_3.forward(layer_2.output)\n",
        "output_layer.forward(layer_3.output)"
      ],
      "metadata": {
        "id": "vWnr_cJNwVDQ"
      },
      "execution_count": 117,
      "outputs": []
    },
    {
      "cell_type": "code",
      "source": [
        "output_layer.output"
      ],
      "metadata": {
        "colab": {
          "base_uri": "https://localhost:8080/"
        },
        "id": "u-7lu4_0xBIa",
        "outputId": "e2836aee-e0bd-465a-8c63-1ecd5838da03"
      },
      "execution_count": 118,
      "outputs": [
        {
          "output_type": "execute_result",
          "data": {
            "text/plain": [
              "tensor([[9.9536e-06, 7.5420e-06, 7.1793e-06, 8.5245e-06, 7.7175e-06],\n",
              "        [8.9618e-06, 6.7915e-06, 6.4614e-06, 7.6722e-06, 6.9487e-06],\n",
              "        [8.0709e-06, 6.1132e-06, 5.8214e-06, 6.9161e-06, 6.2538e-06],\n",
              "        [8.1396e-06, 6.1654e-06, 5.8709e-06, 6.9737e-06, 6.3087e-06],\n",
              "        [8.6427e-06, 6.5506e-06, 6.2351e-06, 7.3992e-06, 6.7040e-06],\n",
              "        [6.6828e-06, 5.0673e-06, 4.8186e-06, 5.7220e-06, 5.1754e-06],\n",
              "        [8.8205e-06, 6.6815e-06, 6.3611e-06, 7.5547e-06, 6.8401e-06],\n",
              "        [9.5297e-06, 7.2257e-06, 6.8692e-06, 8.1547e-06, 7.3864e-06],\n",
              "        [5.2900e-06, 4.0093e-06, 3.8125e-06, 4.5259e-06, 4.1025e-06],\n",
              "        [8.8286e-06, 6.6907e-06, 6.3696e-06, 7.5640e-06, 6.8403e-06],\n",
              "        [1.1732e-05, 8.8935e-06, 8.4606e-06, 1.0046e-05, 9.0895e-06],\n",
              "        [8.9283e-06, 6.7690e-06, 6.4423e-06, 7.6455e-06, 6.9219e-06],\n",
              "        [9.5627e-06, 7.2477e-06, 6.8961e-06, 8.1876e-06, 7.4107e-06],\n",
              "        [7.5229e-06, 5.7045e-06, 5.4246e-06, 6.4416e-06, 5.8236e-06],\n",
              "        [1.1388e-05, 8.6292e-06, 8.2139e-06, 9.7568e-06, 8.8215e-06],\n",
              "        [9.1160e-06, 6.9074e-06, 6.5708e-06, 7.8035e-06, 7.0658e-06],\n",
              "        [7.0827e-06, 5.3661e-06, 5.1036e-06, 6.0618e-06, 5.4921e-06],\n",
              "        [8.8107e-06, 6.6796e-06, 6.3580e-06, 7.5453e-06, 6.8300e-06],\n",
              "        [6.3116e-06, 4.7858e-06, 4.5502e-06, 5.4025e-06, 4.8897e-06],\n",
              "        [7.4623e-06, 5.6530e-06, 5.3785e-06, 6.3895e-06, 5.7826e-06]])"
            ]
          },
          "metadata": {},
          "execution_count": 118
        }
      ]
    },
    {
      "cell_type": "code",
      "source": [],
      "metadata": {
        "id": "w5l7clzvZq-3"
      },
      "execution_count": 118,
      "outputs": []
    }
  ]
}