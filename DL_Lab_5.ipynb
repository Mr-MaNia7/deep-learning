{
  "nbformat": 4,
  "nbformat_minor": 0,
  "metadata": {
    "colab": {
      "provenance": [],
      "gpuType": "T4",
      "include_colab_link": true
    },
    "kernelspec": {
      "name": "python3",
      "display_name": "Python 3"
    },
    "language_info": {
      "name": "python"
    },
    "accelerator": "GPU"
  },
  "cells": [
    {
      "cell_type": "markdown",
      "metadata": {
        "id": "view-in-github",
        "colab_type": "text"
      },
      "source": [
        "<a href=\"https://colab.research.google.com/github/Mr-MaNia7/deep-learning/blob/main/DL_Lab_5.ipynb\" target=\"_parent\"><img src=\"https://colab.research.google.com/assets/colab-badge.svg\" alt=\"Open In Colab\"/></a>"
      ]
    },
    {
      "cell_type": "markdown",
      "source": [
        "# Backward Propagation\n",
        "## Abdulkarim Getachew UGR/7992/12\n"
      ],
      "metadata": {
        "id": "8QjKDVE4OP5k"
      }
    },
    {
      "cell_type": "code",
      "source": [
        "!pip install nnfs"
      ],
      "metadata": {
        "colab": {
          "base_uri": "https://localhost:8080/"
        },
        "id": "zGByuedrT8c2",
        "outputId": "467cedc5-ad60-4472-c35b-4284a99de85b"
      },
      "execution_count": 3,
      "outputs": [
        {
          "output_type": "stream",
          "name": "stdout",
          "text": [
            "Collecting nnfs\n",
            "  Downloading nnfs-0.5.1-py3-none-any.whl (9.1 kB)\n",
            "Requirement already satisfied: numpy in /usr/local/lib/python3.10/dist-packages (from nnfs) (1.23.5)\n",
            "Installing collected packages: nnfs\n",
            "Successfully installed nnfs-0.5.1\n"
          ]
        }
      ]
    },
    {
      "cell_type": "code",
      "source": [
        "import numpy as np\n",
        "import nnfs\n",
        "from nnfs.datasets import spiral_data\n",
        "\n",
        "nnfs.init()"
      ],
      "metadata": {
        "id": "A7_4L9zPUAYo"
      },
      "execution_count": 4,
      "outputs": []
    },
    {
      "cell_type": "markdown",
      "source": [
        "# Dense layer\n"
      ],
      "metadata": {
        "id": "3MUhqWIUXUqp"
      }
    },
    {
      "cell_type": "code",
      "source": [
        "class DenseLayer:\n",
        "\n",
        "    def __init__(self, n_inputs, n_neurons, weight_initializer='random'):\n",
        "        # Choose weight initializer\n",
        "        if weight_initializer == 'random':\n",
        "            self.weights = 0.01 * np.random.randn(n_inputs, n_neurons)\n",
        "        elif weight_initializer == 'xavier':\n",
        "            scale = np.sqrt(2 / (n_inputs + n_neurons))\n",
        "            self.weights = np.random.randn(n_inputs, n_neurons) * scale\n",
        "        else:\n",
        "            raise ValueError(\"Invalid weight initializer\")\n",
        "\n",
        "        self.biases = np.zeros((1, n_neurons))\n",
        "\n",
        "    def forward(self, inputs):\n",
        "        # Save input for backward pass\n",
        "        self.inputs = inputs\n",
        "        # Calculate output values\n",
        "        self.output = np.dot(inputs, self.weights) + self.biases\n",
        "\n",
        "    def backward(self, dvalues):\n",
        "        # Gradient on parameters\n",
        "        self.dweights = np.dot(self.inputs.T, dvalues)\n",
        "        self.dbiases = np.sum(dvalues, axis=0, keepdims=True)\n",
        "        # Gradient on values\n",
        "        self.dinputs = np.dot(dvalues, self.weights.T)"
      ],
      "metadata": {
        "id": "ocJDz86HURSI"
      },
      "execution_count": 5,
      "outputs": []
    },
    {
      "cell_type": "markdown",
      "source": [
        "# ReLU activation\n"
      ],
      "metadata": {
        "id": "989ajn-EXYnt"
      }
    },
    {
      "cell_type": "code",
      "source": [
        "class ReLUActivation:\n",
        "\n",
        "    def forward(self, inputs):\n",
        "        # Save input for backward pass\n",
        "        self.inputs = inputs\n",
        "        # Calculate output values\n",
        "        self.output = np.maximum(0, inputs)\n",
        "\n",
        "    def backward(self, dvalues):\n",
        "        # Copy the gradient to avoid modifying the original variable\n",
        "        self.dinputs = dvalues.copy()\n",
        "        # Zero gradient where input values were negative\n",
        "        self.dinputs[self.inputs <= 0] = 0"
      ],
      "metadata": {
        "id": "7OnxvusMUdfn"
      },
      "execution_count": 6,
      "outputs": []
    },
    {
      "cell_type": "markdown",
      "source": [
        "# Softmax activation\n"
      ],
      "metadata": {
        "id": "B7cyivsQXa-W"
      }
    },
    {
      "cell_type": "code",
      "source": [
        "class SoftmaxActivation:\n",
        "\n",
        "    def forward(self, inputs):\n",
        "        # Save input values for backward pass\n",
        "        self.inputs = inputs\n",
        "\n",
        "        # Calculate unnormalized probabilities\n",
        "        exp_values = np.exp(inputs - np.max(inputs, axis=1, keepdims=True))\n",
        "\n",
        "        # Normalize probabilities for each sample\n",
        "        probabilities = exp_values / np.sum(exp_values, axis=1, keepdims=True)\n",
        "\n",
        "        self.output = probabilities\n",
        "\n",
        "    def backward(self, dvalues):\n",
        "        # Create an uninitialized array\n",
        "        self.dinputs = np.empty_like(dvalues)\n",
        "\n",
        "        # Enumerate outputs and gradients\n",
        "        for index, (single_output, single_dvalues) in enumerate(zip(self.output, dvalues)):\n",
        "            # Flatten output array\n",
        "            single_output = single_output.reshape(-1, 1)\n",
        "\n",
        "            # Calculate Jacobian matrix of the output\n",
        "            jacobian_matrix = np.diagflat(single_output) - np.dot(single_output, single_output.T)\n",
        "\n",
        "            # Calculate sample-wise gradient and add it to the array of sample gradients\n",
        "            self.dinputs[index] = np.dot(jacobian_matrix, single_dvalues)\n"
      ],
      "metadata": {
        "id": "7SJjSw6DU6_7"
      },
      "execution_count": 7,
      "outputs": []
    },
    {
      "cell_type": "markdown",
      "source": [
        "# Common loss class\n"
      ],
      "metadata": {
        "id": "H4IlJmAOXgXM"
      }
    },
    {
      "cell_type": "code",
      "source": [
        "class Loss:\n",
        "\n",
        "    # Calculates the data and regularization losses\n",
        "    def calculate(self, output, y):\n",
        "\n",
        "        # Calculate sample losses\n",
        "        sample_losses = self.forward(output, y)\n",
        "\n",
        "        # Calculate mean loss\n",
        "        data_loss = np.mean(sample_losses)\n",
        "\n",
        "        # Return loss\n",
        "        return data_loss\n"
      ],
      "metadata": {
        "id": "SZEPPJRBVA0q"
      },
      "execution_count": 9,
      "outputs": []
    },
    {
      "cell_type": "markdown",
      "source": [
        "# Cross-entropy loss\n"
      ],
      "metadata": {
        "id": "fwXrNEA5Xhtf"
      }
    },
    {
      "cell_type": "code",
      "source": [
        "class CategoricalCrossentropyLoss(Loss):\n",
        "\n",
        "    def forward(self, y_pred, y_true):\n",
        "        # Number of samples in a batch\n",
        "        samples = len(y_pred)\n",
        "\n",
        "        # Clip data to prevent division by 0\n",
        "        y_pred_clipped = np.clip(y_pred, 1e-7, 1 - 1e-7)\n",
        "\n",
        "        # Probabilities for target values -\n",
        "        # only if categorical labels\n",
        "        if len(y_true.shape) == 1:\n",
        "            correct_confidences = y_pred_clipped[range(samples), y_true]\n",
        "\n",
        "        # Mask values - only for one-hot encoded labels\n",
        "        elif len(y_true.shape) == 2:\n",
        "            correct_confidences = np.sum(y_pred_clipped * y_true, axis=1)\n",
        "\n",
        "        # Losses\n",
        "        negative_log_likelihoods = -np.log(correct_confidences)\n",
        "        return negative_log_likelihoods\n",
        "\n",
        "    def backward(self, dvalues, y_true):\n",
        "        # Number of samples\n",
        "        samples = len(dvalues)\n",
        "        # Number of labels in every sample\n",
        "        # We'll use the first sample to count them\n",
        "        labels = len(dvalues[0])\n",
        "\n",
        "        # If labels are sparse, turn them into one-hot vector\n",
        "        if len(y_true.shape) == 1:\n",
        "            y_true = np.eye(labels)[y_true]\n",
        "\n",
        "        # Calculate gradient\n",
        "        self.dinputs = -y_true / dvalues\n",
        "        # Normalize gradient\n",
        "        self.dinputs = self.dinputs / samples\n"
      ],
      "metadata": {
        "id": "MQjvd0XUVTyk"
      },
      "execution_count": 10,
      "outputs": []
    },
    {
      "cell_type": "markdown",
      "source": [
        "# Softmax classifier - combined Softmax activation\n",
        "\n"
      ],
      "metadata": {
        "id": "5NCTXQJ_XOmA"
      }
    },
    {
      "cell_type": "code",
      "source": [
        "class SoftmaxCrossentropyActivation:\n",
        "\n",
        "    def __init__(self):\n",
        "        self.activation = SoftmaxActivation()\n",
        "        self.loss = CategoricalCrossentropyLoss()\n",
        "\n",
        "    def forward(self, inputs, y_true):\n",
        "        # Output layer's activation function\n",
        "        self.activation.forward(inputs)\n",
        "        # Set the output\n",
        "        self.output = self.activation.output\n",
        "        # Calculate and return loss value\n",
        "        return self.loss.calculate(self.output, y_true)\n",
        "\n",
        "    def backward(self, dvalues, y_true):\n",
        "        # Number of samples\n",
        "        samples = len(dvalues)\n",
        "\n",
        "        # If labels are one-hot encoded,\n",
        "        # turn them into discrete values\n",
        "        if len(y_true.shape) == 2:\n",
        "            y_true = np.argmax(y_true, axis=1)\n",
        "\n",
        "        # Copy so we can safely modify\n",
        "        self.dinputs = dvalues.copy()\n",
        "        # Calculate gradient\n",
        "        self.dinputs[range(samples), y_true] -= 1\n",
        "        # Normalize gradient\n",
        "        self.dinputs = self.dinputs / samples\n"
      ],
      "metadata": {
        "id": "O2mo4ahZVkCJ"
      },
      "execution_count": 11,
      "outputs": []
    },
    {
      "cell_type": "markdown",
      "source": [
        "# Driver code"
      ],
      "metadata": {
        "id": "Npu7tu-rXLhl"
      }
    },
    {
      "cell_type": "code",
      "source": [
        "class NeuralNetwork:\n",
        "\n",
        "    def __init__(self):\n",
        "        self.dense1 = DenseLayer(2, 3)\n",
        "        self.activation1 = ReLUActivation()\n",
        "        self.dense2 = DenseLayer(3, 3)\n",
        "        self.loss_activation = SoftmaxCrossentropyActivation()\n",
        "\n",
        "    def forward(self, X):\n",
        "        # Forward pass through the layers\n",
        "        self.dense1.forward(X)\n",
        "        self.activation1.forward(self.dense1.output)\n",
        "        self.dense2.forward(self.activation1.output)\n",
        "        loss = self.loss_activation.forward(self.dense2.output, y)\n",
        "        return loss\n",
        "\n",
        "    def backward(self, y):\n",
        "        # Backward pass through the layers\n",
        "        self.loss_activation.backward(self.loss_activation.output, y)\n",
        "        self.dense2.backward(self.loss_activation.dinputs)\n",
        "        self.activation1.backward(self.dense2.dinputs)\n",
        "        self.dense1.backward(self.activation1.dinputs)\n",
        "\n",
        "    def train(self, X, y, learning_rate=0.01, epochs=1000):\n",
        "        for epoch in range(epochs):\n",
        "            # Forward and backward pass\n",
        "            loss = self.forward(X)\n",
        "            self.backward(y)\n",
        "\n",
        "            # Update weights and biases using gradient descent\n",
        "            self.dense1.weights -= learning_rate * self.dense1.dweights\n",
        "            self.dense1.biases -= learning_rate * self.dense1.dbiases\n",
        "            self.dense2.weights -= learning_rate * self.dense2.dweights\n",
        "            self.dense2.biases -= learning_rate * self.dense2.dbiases\n",
        "\n",
        "            # Print loss for every 100 epochs\n",
        "            if epoch % 100 == 0:\n",
        "                print(f'Epoch {epoch}, Loss: {loss}')\n",
        "\n",
        "# Create dataset\n",
        "X, y = spiral_data(samples=100, classes=3)\n",
        "\n",
        "# Create neural network instance\n",
        "model = NeuralNetwork()\n",
        "\n",
        "# Train the model\n",
        "model.train(X, y)\n",
        "\n",
        "print()\n",
        "\n",
        "# Print gradients after training\n",
        "print(\"Gradients after training:\")\n",
        "print(\"Dense1 Weights:\\n\", model.dense1.dweights)\n",
        "print(\"Dense1 Biases:\\n\", model.dense1.dbiases)\n",
        "print(\"Dense2 Weights:\\n\", model.dense2.dweights)\n",
        "print(\"Dense2 Biases:\\n\", model.dense2.dbiases)\n"
      ],
      "metadata": {
        "id": "uiX6_gOKiLZl",
        "colab": {
          "base_uri": "https://localhost:8080/"
        },
        "outputId": "3a64f71f-b907-4297-f5c0-8ebabcc20973"
      },
      "execution_count": 16,
      "outputs": [
        {
          "output_type": "stream",
          "name": "stdout",
          "text": [
            "Epoch 0, Loss: 1.0986077785491943\n",
            "Epoch 100, Loss: 1.0986071825027466\n",
            "Epoch 200, Loss: 1.0986064672470093\n",
            "Epoch 300, Loss: 1.0986056327819824\n",
            "Epoch 400, Loss: 1.0986040830612183\n",
            "Epoch 500, Loss: 1.0986028909683228\n",
            "Epoch 600, Loss: 1.0986019372940063\n",
            "Epoch 700, Loss: 1.09860098361969\n",
            "Epoch 800, Loss: 1.0986000299453735\n",
            "Epoch 900, Loss: 1.0985991954803467\n",
            "\n",
            "Gradients after training:\n",
            "Dense1 Weights:\n",
            " [[2.7538810e-05 2.0965304e-04 6.2896207e-04]\n",
            " [1.5314254e-05 1.3425304e-04 3.2094587e-04]]\n",
            "Dense1 Biases:\n",
            " [[ 9.1978975e-05 -8.1915859e-05 -2.4086129e-04]]\n",
            "Dense2 Weights:\n",
            " [[ 3.70227790e-05 -1.97678135e-04  1.60655341e-04]\n",
            " [ 5.33945713e-05  1.21198376e-04 -1.74592948e-04]\n",
            " [ 1.42504388e-04  1.88320948e-04 -3.30825336e-04]]\n",
            "Dense2 Biases:\n",
            " [[-5.1407842e-06 -4.2991014e-06  9.2568807e-06]]\n"
          ]
        }
      ]
    }
  ]
}